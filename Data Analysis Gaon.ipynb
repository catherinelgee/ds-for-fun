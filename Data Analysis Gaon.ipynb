{
 "cells": [
  {
   "cell_type": "markdown",
   "metadata": {},
   "source": [
    "# The Data of Kpop \n",
    "The age old question of many fans (of kpop or otherwise) is which artist is the best? Generally this is answered by affirmation, but I am taking it to the charts to determine this. In this juypter notebook I'm going to explore the Gaon Digital Weekly charts from the weeks of 08/03/2019 to 12/27/2009 so that we may arrive at some sort of conclusion. Who really is the best and what can be reflective of the Korean culture itself? Eventually I would like to expand this project to include more data, but my skills are admittedly lacking at this point of time. See the end of the notebook for some future notes!"
   ]
  },
  {
   "cell_type": "code",
   "execution_count": 1,
   "metadata": {},
   "outputs": [],
   "source": [
    "import pandas as pd"
   ]
  },
  {
   "cell_type": "code",
   "execution_count": 4,
   "metadata": {},
   "outputs": [
    {
     "data": {
      "text/plain": [
       "43100"
      ]
     },
     "execution_count": 4,
     "metadata": {},
     "output_type": "execute_result"
    }
   ],
   "source": [
    "tbl = pd.read_csv('Kpop/data/table.csv')\n",
    "len(tbl)"
   ]
  },
  {
   "cell_type": "code",
   "execution_count": 5,
   "metadata": {},
   "outputs": [
    {
     "data": {
      "text/plain": [
       "Index(['Unnamed: 0', 'Ranking', 'TitleArtist', 'Production', 'Album', 'Artist',\n",
       "       'Title', 'Week', 'Year'],\n",
       "      dtype='object')"
      ]
     },
     "execution_count": 5,
     "metadata": {},
     "output_type": "execute_result"
    }
   ],
   "source": [
    "tbl.columns"
   ]
  },
  {
   "cell_type": "code",
   "execution_count": 6,
   "metadata": {},
   "outputs": [
    {
     "data": {
      "text/html": [
       "<div>\n",
       "<style scoped>\n",
       "    .dataframe tbody tr th:only-of-type {\n",
       "        vertical-align: middle;\n",
       "    }\n",
       "\n",
       "    .dataframe tbody tr th {\n",
       "        vertical-align: top;\n",
       "    }\n",
       "\n",
       "    .dataframe thead th {\n",
       "        text-align: right;\n",
       "    }\n",
       "</style>\n",
       "<table border=\"1\" class=\"dataframe\">\n",
       "  <thead>\n",
       "    <tr style=\"text-align: right;\">\n",
       "      <th></th>\n",
       "      <th>Unnamed: 0</th>\n",
       "      <th>Ranking</th>\n",
       "      <th>TitleArtist</th>\n",
       "      <th>Production</th>\n",
       "      <th>Album</th>\n",
       "      <th>Artist</th>\n",
       "      <th>Title</th>\n",
       "      <th>Week</th>\n",
       "      <th>Year</th>\n",
       "    </tr>\n",
       "  </thead>\n",
       "  <tbody>\n",
       "    <tr>\n",
       "      <th>0</th>\n",
       "      <td>1</td>\n",
       "      <td>1</td>\n",
       "      <td>그대라는 시 태연 (TAEYEON)|호텔 델루나 OST Part.3</td>\n",
       "      <td>냠냠엔터테인먼트 카카오 M</td>\n",
       "      <td>호텔 델루나 OST Part.3</td>\n",
       "      <td>태연 (TAEYEON)</td>\n",
       "      <td>그대라는 시</td>\n",
       "      <td>30</td>\n",
       "      <td>2019</td>\n",
       "    </tr>\n",
       "    <tr>\n",
       "      <th>1</th>\n",
       "      <td>2</td>\n",
       "      <td>2</td>\n",
       "      <td>술이 문제야 장혜진, 윤민수|술이 문제야</td>\n",
       "      <td>젤리피쉬 엔터테인먼트 지니뮤직, Stone Music Entertainment</td>\n",
       "      <td>술이 문제야</td>\n",
       "      <td>장혜진, 윤민수</td>\n",
       "      <td>술이 문제야</td>\n",
       "      <td>30</td>\n",
       "      <td>2019</td>\n",
       "    </tr>\n",
       "    <tr>\n",
       "      <th>2</th>\n",
       "      <td>3</td>\n",
       "      <td>3</td>\n",
       "      <td>헤어져줘서 고마워 벤 (Ben)|헤어져줘서 고마워</td>\n",
       "      <td>메이저나인 지니뮤직</td>\n",
       "      <td>헤어져줘서 고마워</td>\n",
       "      <td>벤 (Ben)</td>\n",
       "      <td>헤어져줘서 고마워</td>\n",
       "      <td>30</td>\n",
       "      <td>2019</td>\n",
       "    </tr>\n",
       "    <tr>\n",
       "      <th>3</th>\n",
       "      <td>4</td>\n",
       "      <td>4</td>\n",
       "      <td>니 소식 송하예|니 소식</td>\n",
       "      <td>더하기미디어 카카오 M</td>\n",
       "      <td>니 소식</td>\n",
       "      <td>송하예</td>\n",
       "      <td>니 소식</td>\n",
       "      <td>30</td>\n",
       "      <td>2019</td>\n",
       "    </tr>\n",
       "    <tr>\n",
       "      <th>4</th>\n",
       "      <td>5</td>\n",
       "      <td>5</td>\n",
       "      <td>인사 멜로망스(MeloMance)|인사</td>\n",
       "      <td>민트페이퍼, 광합성 카카오 M</td>\n",
       "      <td>인사</td>\n",
       "      <td>멜로망스(MeloMance)</td>\n",
       "      <td>인사</td>\n",
       "      <td>30</td>\n",
       "      <td>2019</td>\n",
       "    </tr>\n",
       "  </tbody>\n",
       "</table>\n",
       "</div>"
      ],
      "text/plain": [
       "   Unnamed: 0  Ranking                              TitleArtist  \\\n",
       "0           1        1   그대라는 시 태연 (TAEYEON)|호텔 델루나 OST Part.3    \n",
       "1           2        2                  술이 문제야 장혜진, 윤민수|술이 문제야    \n",
       "2           3        3             헤어져줘서 고마워 벤 (Ben)|헤어져줘서 고마워    \n",
       "3           4        4                           니 소식 송하예|니 소식    \n",
       "4           5        5                   인사 멜로망스(MeloMance)|인사    \n",
       "\n",
       "                                      Production              Album  \\\n",
       "0                                냠냠엔터테인먼트 카카오 M   호텔 델루나 OST Part.3   \n",
       "1   젤리피쉬 엔터테인먼트 지니뮤직, Stone Music Entertainment              술이 문제야   \n",
       "2                                    메이저나인 지니뮤직           헤어져줘서 고마워   \n",
       "3                                  더하기미디어 카카오 M                니 소식   \n",
       "4                              민트페이퍼, 광합성 카카오 M                  인사   \n",
       "\n",
       "            Artist       Title  Week  Year  \n",
       "0     태연 (TAEYEON)      그대라는 시    30  2019  \n",
       "1         장혜진, 윤민수      술이 문제야    30  2019  \n",
       "2          벤 (Ben)   헤어져줘서 고마워    30  2019  \n",
       "3              송하예        니 소식    30  2019  \n",
       "4  멜로망스(MeloMance)          인사    30  2019  "
      ]
     },
     "execution_count": 6,
     "metadata": {},
     "output_type": "execute_result"
    }
   ],
   "source": [
    "tbl.head()"
   ]
  },
  {
   "cell_type": "markdown",
   "metadata": {},
   "source": [
    "## Top Ranking\n",
    "First I'm going to check out the number 1 ranked songs for each week."
   ]
  },
  {
   "cell_type": "code",
   "execution_count": 7,
   "metadata": {},
   "outputs": [
    {
     "data": {
      "text/html": [
       "<div>\n",
       "<style scoped>\n",
       "    .dataframe tbody tr th:only-of-type {\n",
       "        vertical-align: middle;\n",
       "    }\n",
       "\n",
       "    .dataframe tbody tr th {\n",
       "        vertical-align: top;\n",
       "    }\n",
       "\n",
       "    .dataframe thead th {\n",
       "        text-align: right;\n",
       "    }\n",
       "</style>\n",
       "<table border=\"1\" class=\"dataframe\">\n",
       "  <thead>\n",
       "    <tr style=\"text-align: right;\">\n",
       "      <th></th>\n",
       "      <th>Unnamed: 0</th>\n",
       "      <th>Ranking</th>\n",
       "      <th>TitleArtist</th>\n",
       "      <th>Production</th>\n",
       "      <th>Album</th>\n",
       "      <th>Artist</th>\n",
       "      <th>Title</th>\n",
       "      <th>Week</th>\n",
       "      <th>Year</th>\n",
       "    </tr>\n",
       "  </thead>\n",
       "  <tbody>\n",
       "    <tr>\n",
       "      <th>0</th>\n",
       "      <td>1</td>\n",
       "      <td>1</td>\n",
       "      <td>그대라는 시 태연 (TAEYEON)|호텔 델루나 OST Part.3</td>\n",
       "      <td>냠냠엔터테인먼트 카카오 M</td>\n",
       "      <td>호텔 델루나 OST Part.3</td>\n",
       "      <td>태연 (TAEYEON)</td>\n",
       "      <td>그대라는 시</td>\n",
       "      <td>30</td>\n",
       "      <td>2019</td>\n",
       "    </tr>\n",
       "    <tr>\n",
       "      <th>200</th>\n",
       "      <td>1</td>\n",
       "      <td>1</td>\n",
       "      <td>헤어져줘서 고마워 벤 (Ben)|헤어져줘서 고마워</td>\n",
       "      <td>메이저나인 지니뮤직</td>\n",
       "      <td>헤어져줘서 고마워</td>\n",
       "      <td>벤 (Ben)</td>\n",
       "      <td>헤어져줘서 고마워</td>\n",
       "      <td>29</td>\n",
       "      <td>2019</td>\n",
       "    </tr>\n",
       "    <tr>\n",
       "      <th>400</th>\n",
       "      <td>1</td>\n",
       "      <td>1</td>\n",
       "      <td>헤어져줘서 고마워 벤 (Ben)|헤어져줘서 고마워</td>\n",
       "      <td>메이저나인 지니뮤직</td>\n",
       "      <td>헤어져줘서 고마워</td>\n",
       "      <td>벤 (Ben)</td>\n",
       "      <td>헤어져줘서 고마워</td>\n",
       "      <td>28</td>\n",
       "      <td>2019</td>\n",
       "    </tr>\n",
       "    <tr>\n",
       "      <th>600</th>\n",
       "      <td>1</td>\n",
       "      <td>1</td>\n",
       "      <td>술이 문제야 장혜진, 윤민수|술이 문제야</td>\n",
       "      <td>젤리피쉬 엔터테인먼트 지니뮤직, Stone Music Entertainment</td>\n",
       "      <td>술이 문제야</td>\n",
       "      <td>장혜진, 윤민수</td>\n",
       "      <td>술이 문제야</td>\n",
       "      <td>27</td>\n",
       "      <td>2019</td>\n",
       "    </tr>\n",
       "    <tr>\n",
       "      <th>800</th>\n",
       "      <td>1</td>\n",
       "      <td>1</td>\n",
       "      <td>술이 문제야 장혜진, 윤민수|술이 문제야</td>\n",
       "      <td>젤리피쉬 엔터테인먼트 지니뮤직, Stone Music Entertainment</td>\n",
       "      <td>술이 문제야</td>\n",
       "      <td>장혜진, 윤민수</td>\n",
       "      <td>술이 문제야</td>\n",
       "      <td>26</td>\n",
       "      <td>2019</td>\n",
       "    </tr>\n",
       "  </tbody>\n",
       "</table>\n",
       "</div>"
      ],
      "text/plain": [
       "     Unnamed: 0  Ranking                              TitleArtist  \\\n",
       "0             1        1   그대라는 시 태연 (TAEYEON)|호텔 델루나 OST Part.3    \n",
       "200           1        1             헤어져줘서 고마워 벤 (Ben)|헤어져줘서 고마워    \n",
       "400           1        1             헤어져줘서 고마워 벤 (Ben)|헤어져줘서 고마워    \n",
       "600           1        1                  술이 문제야 장혜진, 윤민수|술이 문제야    \n",
       "800           1        1                  술이 문제야 장혜진, 윤민수|술이 문제야    \n",
       "\n",
       "                                        Production              Album  \\\n",
       "0                                  냠냠엔터테인먼트 카카오 M   호텔 델루나 OST Part.3   \n",
       "200                                    메이저나인 지니뮤직           헤어져줘서 고마워   \n",
       "400                                    메이저나인 지니뮤직           헤어져줘서 고마워   \n",
       "600   젤리피쉬 엔터테인먼트 지니뮤직, Stone Music Entertainment              술이 문제야   \n",
       "800   젤리피쉬 엔터테인먼트 지니뮤직, Stone Music Entertainment              술이 문제야   \n",
       "\n",
       "           Artist       Title  Week  Year  \n",
       "0    태연 (TAEYEON)      그대라는 시    30  2019  \n",
       "200       벤 (Ben)   헤어져줘서 고마워    29  2019  \n",
       "400       벤 (Ben)   헤어져줘서 고마워    28  2019  \n",
       "600      장혜진, 윤민수      술이 문제야    27  2019  \n",
       "800      장혜진, 윤민수      술이 문제야    26  2019  "
      ]
     },
     "execution_count": 7,
     "metadata": {},
     "output_type": "execute_result"
    }
   ],
   "source": [
    "numberOne = tbl[tbl['Ranking'] == 1]\n",
    "numberOne.head()"
   ]
  },
  {
   "cell_type": "markdown",
   "metadata": {},
   "source": [
    "### This is a pretty quick way to see who is the \"best\", by examining who has held rank 1 the longest."
   ]
  },
  {
   "cell_type": "code",
   "execution_count": 18,
   "metadata": {},
   "outputs": [
    {
     "data": {
      "text/html": [
       "<div>\n",
       "<style scoped>\n",
       "    .dataframe tbody tr th:only-of-type {\n",
       "        vertical-align: middle;\n",
       "    }\n",
       "\n",
       "    .dataframe tbody tr th {\n",
       "        vertical-align: top;\n",
       "    }\n",
       "\n",
       "    .dataframe thead th {\n",
       "        text-align: right;\n",
       "    }\n",
       "</style>\n",
       "<table border=\"1\" class=\"dataframe\">\n",
       "  <thead>\n",
       "    <tr style=\"text-align: right;\">\n",
       "      <th></th>\n",
       "      <th>Unnamed: 0</th>\n",
       "      <th>Ranking</th>\n",
       "      <th>Week</th>\n",
       "      <th>Year</th>\n",
       "    </tr>\n",
       "    <tr>\n",
       "      <th>Title</th>\n",
       "      <th></th>\n",
       "      <th></th>\n",
       "      <th></th>\n",
       "      <th></th>\n",
       "    </tr>\n",
       "  </thead>\n",
       "  <tbody>\n",
       "    <tr>\n",
       "      <th>사랑을 했다 (LOVE SCENARIO)</th>\n",
       "      <td>6</td>\n",
       "      <td>6</td>\n",
       "      <td>45</td>\n",
       "      <td>12108</td>\n",
       "    </tr>\n",
       "    <tr>\n",
       "      <th>강남스타일</th>\n",
       "      <td>5</td>\n",
       "      <td>5</td>\n",
       "      <td>160</td>\n",
       "      <td>10060</td>\n",
       "    </tr>\n",
       "    <tr>\n",
       "      <th>180도</th>\n",
       "      <td>4</td>\n",
       "      <td>4</td>\n",
       "      <td>154</td>\n",
       "      <td>8073</td>\n",
       "    </tr>\n",
       "    <tr>\n",
       "      <th>주지마</th>\n",
       "      <td>4</td>\n",
       "      <td>4</td>\n",
       "      <td>74</td>\n",
       "      <td>8072</td>\n",
       "    </tr>\n",
       "    <tr>\n",
       "      <th>Ko Ko Bop</th>\n",
       "      <td>4</td>\n",
       "      <td>4</td>\n",
       "      <td>123</td>\n",
       "      <td>8068</td>\n",
       "    </tr>\n",
       "  </tbody>\n",
       "</table>\n",
       "</div>"
      ],
      "text/plain": [
       "                         Unnamed: 0  Ranking  Week   Year\n",
       "Title                                                    \n",
       " 사랑을 했다 (LOVE SCENARIO)           6        6    45  12108\n",
       " 강남스타일                            5        5   160  10060\n",
       " 180도                             4        4   154   8073\n",
       " 주지마                              4        4    74   8072\n",
       " Ko Ko Bop                        4        4   123   8068"
      ]
     },
     "execution_count": 18,
     "metadata": {},
     "output_type": "execute_result"
    }
   ],
   "source": [
    "numberOneSong = numberOne.groupby('Title').agg(len)\n",
    "#numberOneArtist = ...\n",
    "numberOneSong.sort_values('Ranking', ascending=False).head()\n",
    "#numberOne"
   ]
  },
  {
   "cell_type": "code",
   "execution_count": 20,
   "metadata": {},
   "outputs": [
    {
     "data": {
      "text/plain": [
       "Unnamed: 0                    100\n",
       "Ranking                       100\n",
       "TitleArtist     어디라도 이승기|Tonight \n",
       "Production        후크엔터테인먼트 카카오 M \n",
       "Album                     Tonight\n",
       "Artist                        이승기\n",
       "Title                        어디라도\n",
       "Week                           46\n",
       "Year                         2011\n",
       "Name: 43099, dtype: object"
      ]
     },
     "execution_count": 20,
     "metadata": {},
     "output_type": "execute_result"
    }
   ],
   "source": [
    "tbl.iloc[43099]"
   ]
  },
  {
   "cell_type": "code",
   "execution_count": null,
   "metadata": {},
   "outputs": [],
   "source": []
  }
 ],
 "metadata": {
  "kernelspec": {
   "display_name": "Python 3",
   "language": "python",
   "name": "python3"
  },
  "language_info": {
   "codemirror_mode": {
    "name": "ipython",
    "version": 3
   },
   "file_extension": ".py",
   "mimetype": "text/x-python",
   "name": "python",
   "nbconvert_exporter": "python",
   "pygments_lexer": "ipython3",
   "version": "3.6.8"
  }
 },
 "nbformat": 4,
 "nbformat_minor": 2
}
